{
 "cells": [
  {
   "cell_type": "code",
   "execution_count": 1,
   "metadata": {},
   "outputs": [],
   "source": [
    "import sqlite3"
   ]
  },
  {
   "cell_type": "code",
   "execution_count": 2,
   "metadata": {},
   "outputs": [],
   "source": [
    "connection=sqlite3.connect(\"mydb.db\")"
   ]
  },
  {
   "cell_type": "code",
   "execution_count": 3,
   "metadata": {},
   "outputs": [],
   "source": [
    "table_creation_query = \"\"\"\n",
    "CREATE TABLE IF NOT EXISTS supply (\n",
    "    id INTEGER PRIMARY KEY AUTOINCREMENT,\n",
    "    item_name TEXT NOT NULL,\n",
    "    quantity INTEGER NOT NULL,\n",
    "    supplier TEXT,\n",
    "    date_added DATE DEFAULT CURRENT_DATE\n",
    ");\n",
    "\"\"\""
   ]
  },
  {
   "cell_type": "code",
   "execution_count": 4,
   "metadata": {},
   "outputs": [],
   "source": [
    "table_creation_query2 = \"\"\"\n",
    "CREATE TABLE IF NOT EXISTS product (\n",
    "    id INTEGER PRIMARY KEY AUTOINCREMENT,\n",
    "    product_name TEXT NOT NULL,\n",
    "    price REAL NOT NULL,\n",
    "    stock_quantity INTEGER NOT NULL,\n",
    "    category TEXT,\n",
    "    date_added DATE DEFAULT CURRENT_DATE\n",
    ");\n",
    "\"\"\""
   ]
  },
  {
   "cell_type": "code",
   "execution_count": 5,
   "metadata": {},
   "outputs": [],
   "source": [
    "cursor=connection.cursor()"
   ]
  },
  {
   "cell_type": "code",
   "execution_count": 6,
   "metadata": {},
   "outputs": [
    {
     "data": {
      "text/plain": [
       "<sqlite3.Cursor at 0x21f6e6d9fc0>"
      ]
     },
     "execution_count": 6,
     "metadata": {},
     "output_type": "execute_result"
    }
   ],
   "source": [
    "cursor.execute(table_creation_query)\n",
    "cursor.execute(table_creation_query2)\n",
    "\n",
    "\n"
   ]
  },
  {
   "cell_type": "code",
   "execution_count": 7,
   "metadata": {},
   "outputs": [],
   "source": [
    "insert_supply_query = \"\"\"\n",
    "INSERT INTO supply (item_name, quantity, supplier) \n",
    "VALUES (?, ?, ?);\n",
    "\"\"\"\n",
    "insert_product_query = \"\"\"\n",
    "INSERT INTO product (product_name, price, stock_quantity, category) \n",
    "VALUES (?, ?, ?, ?);\n",
    "\"\"\"\n"
   ]
  },
  {
   "cell_type": "code",
   "execution_count": 8,
   "metadata": {},
   "outputs": [],
   "source": [
    "supply_data = [\n",
    "    (\"Steel Rods\", 50, \"ABC Suppliers\"),\n",
    "    (\"Cement Bags\", 100, \"XYZ Cement Co.\"),\n",
    "    (\"Bricks\", 500, \"Brick World\"),\n",
    "    (\"Wood Planks\", 200, \"Timber Corp\"),\n",
    "    (\"Nails\", 1000, \"Hardware Hub\")\n",
    "]\n",
    "\n",
    "product_data = [\n",
    "    (\"Laptop\", 799.99, 10, \"Electronics\"),\n",
    "    (\"Smartphone\", 499.99, 20, \"Electronics\"),\n",
    "    (\"Office Chair\", 120.50, 15, \"Furniture\"),\n",
    "    (\"Table Lamp\", 35.99, 25, \"Home Decor\"),\n",
    "    (\"Backpack\", 45.00, 30, \"Accessories\")\n",
    "]\n",
    "\n"
   ]
  },
  {
   "cell_type": "code",
   "execution_count": 9,
   "metadata": {},
   "outputs": [
    {
     "data": {
      "text/plain": [
       "<sqlite3.Cursor at 0x21f6e6d9fc0>"
      ]
     },
     "execution_count": 9,
     "metadata": {},
     "output_type": "execute_result"
    }
   ],
   "source": [
    "cursor.executemany(insert_supply_query,supply_data)\n",
    "cursor.executemany(insert_product_query,product_data)\n",
    "    "
   ]
  },
  {
   "cell_type": "code",
   "execution_count": 10,
   "metadata": {},
   "outputs": [],
   "source": [
    "connection.commit()"
   ]
  },
  {
   "cell_type": "code",
   "execution_count": 11,
   "metadata": {},
   "outputs": [
    {
     "data": {
      "text/plain": [
       "<sqlite3.Cursor at 0x21f6e6d9fc0>"
      ]
     },
     "execution_count": 11,
     "metadata": {},
     "output_type": "execute_result"
    }
   ],
   "source": [
    "cursor.execute(\"select * from product;\")"
   ]
  },
  {
   "cell_type": "code",
   "execution_count": 12,
   "metadata": {},
   "outputs": [
    {
     "name": "stdout",
     "output_type": "stream",
     "text": [
      "(1, 'Laptop', 799.99, 10, 'Electronics', '2025-02-04')\n",
      "(2, 'Smartphone', 499.99, 20, 'Electronics', '2025-02-04')\n",
      "(3, 'Office Chair', 120.5, 15, 'Furniture', '2025-02-04')\n",
      "(4, 'Table Lamp', 35.99, 25, 'Home Decor', '2025-02-04')\n",
      "(5, 'Backpack', 45.0, 30, 'Accessories', '2025-02-04')\n",
      "(6, 'Laptop', 799.99, 10, 'Electronics', '2025-02-05')\n",
      "(7, 'Smartphone', 499.99, 20, 'Electronics', '2025-02-05')\n",
      "(8, 'Office Chair', 120.5, 15, 'Furniture', '2025-02-05')\n",
      "(9, 'Table Lamp', 35.99, 25, 'Home Decor', '2025-02-05')\n",
      "(10, 'Backpack', 45.0, 30, 'Accessories', '2025-02-05')\n",
      "(11, 'Laptop', 799.99, 10, 'Electronics', '2025-02-05')\n",
      "(12, 'Smartphone', 499.99, 20, 'Electronics', '2025-02-05')\n",
      "(13, 'Office Chair', 120.5, 15, 'Furniture', '2025-02-05')\n",
      "(14, 'Table Lamp', 35.99, 25, 'Home Decor', '2025-02-05')\n",
      "(15, 'Backpack', 45.0, 30, 'Accessories', '2025-02-05')\n",
      "(16, 'Laptop', 799.99, 10, 'Electronics', '2025-02-05')\n",
      "(17, 'Smartphone', 499.99, 20, 'Electronics', '2025-02-05')\n",
      "(18, 'Office Chair', 120.5, 15, 'Furniture', '2025-02-05')\n",
      "(19, 'Table Lamp', 35.99, 25, 'Home Decor', '2025-02-05')\n",
      "(20, 'Backpack', 45.0, 30, 'Accessories', '2025-02-05')\n",
      "(21, 'Laptop', 799.99, 10, 'Electronics', '2025-02-05')\n",
      "(22, 'Smartphone', 499.99, 20, 'Electronics', '2025-02-05')\n",
      "(23, 'Office Chair', 120.5, 15, 'Furniture', '2025-02-05')\n",
      "(24, 'Table Lamp', 35.99, 25, 'Home Decor', '2025-02-05')\n",
      "(25, 'Backpack', 45.0, 30, 'Accessories', '2025-02-05')\n"
     ]
    }
   ],
   "source": [
    "for row in cursor.fetchall():\n",
    "    print(row)"
   ]
  },
  {
   "cell_type": "code",
   "execution_count": 13,
   "metadata": {},
   "outputs": [],
   "source": [
    "from langchain_community.utilities import SQLDatabase"
   ]
  },
  {
   "cell_type": "code",
   "execution_count": 14,
   "metadata": {},
   "outputs": [],
   "source": [
    "db=SQLDatabase.from_uri(\"sqlite:///mydb.db\")"
   ]
  },
  {
   "cell_type": "code",
   "execution_count": 15,
   "metadata": {},
   "outputs": [
    {
     "data": {
      "text/plain": [
       "<langchain_community.utilities.sql_database.SQLDatabase at 0x21f6f5ff670>"
      ]
     },
     "execution_count": 15,
     "metadata": {},
     "output_type": "execute_result"
    }
   ],
   "source": [
    "db"
   ]
  },
  {
   "cell_type": "code",
   "execution_count": 16,
   "metadata": {},
   "outputs": [
    {
     "data": {
      "text/plain": [
       "'sqlite'"
      ]
     },
     "execution_count": 16,
     "metadata": {},
     "output_type": "execute_result"
    }
   ],
   "source": [
    "db.dialect"
   ]
  },
  {
   "cell_type": "code",
   "execution_count": 17,
   "metadata": {},
   "outputs": [
    {
     "data": {
      "text/plain": [
       "['product', 'supply']"
      ]
     },
     "execution_count": 17,
     "metadata": {},
     "output_type": "execute_result"
    }
   ],
   "source": [
    "db.get_usable_table_names()"
   ]
  },
  {
   "cell_type": "code",
   "execution_count": 18,
   "metadata": {},
   "outputs": [],
   "source": [
    "from langchain_groq import ChatGroq\n"
   ]
  },
  {
   "cell_type": "code",
   "execution_count": 19,
   "metadata": {},
   "outputs": [],
   "source": [
    "llm = ChatGroq(model=\"llama3-70b-8192\", api_key=\"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\")\n"
   ]
  },
  {
   "cell_type": "code",
   "execution_count": 20,
   "metadata": {},
   "outputs": [
    {
     "data": {
      "text/plain": [
       "AIMessage(content=\"Hello! I'm just a language model, so I don't have emotions or feelings like humans do, but I'm functioning properly and ready to help you with any questions or tasks you may have. How can I assist you today?\", additional_kwargs={}, response_metadata={'token_usage': {'completion_tokens': 48, 'prompt_tokens': 15, 'total_tokens': 63, 'completion_time': 0.146212828, 'prompt_time': 0.003601859, 'queue_time': 0.13174228999999998, 'total_time': 0.149814687}, 'model_name': 'llama3-70b-8192', 'system_fingerprint': 'fp_2f30b0b571', 'finish_reason': 'stop', 'logprobs': None}, id='run-48e99e6b-8929-4221-a947-5118d4ff0b0e-0', usage_metadata={'input_tokens': 15, 'output_tokens': 48, 'total_tokens': 63})"
      ]
     },
     "execution_count": 20,
     "metadata": {},
     "output_type": "execute_result"
    }
   ],
   "source": [
    "llm.invoke(\"hello how are you?\")"
   ]
  },
  {
   "cell_type": "code",
   "execution_count": 21,
   "metadata": {},
   "outputs": [],
   "source": [
    "from langchain_community.agent_toolkits import SQLDatabaseToolkit\n"
   ]
  },
  {
   "cell_type": "code",
   "execution_count": 22,
   "metadata": {},
   "outputs": [],
   "source": [
    "toolkit=SQLDatabaseToolkit(db=db, llm=llm)"
   ]
  },
  {
   "cell_type": "code",
   "execution_count": 23,
   "metadata": {},
   "outputs": [],
   "source": [
    "tools=toolkit.get_tools()"
   ]
  },
  {
   "cell_type": "code",
   "execution_count": 24,
   "metadata": {},
   "outputs": [
    {
     "data": {
      "text/plain": [
       "[QuerySQLDatabaseTool(description=\"Input to this tool is a detailed and correct SQL query, output is a result from the database. If the query is not correct, an error message will be returned. If an error is returned, rewrite the query, check the query, and try again. If you encounter an issue with Unknown column 'xxxx' in 'field list', use sql_db_schema to query the correct table fields.\", db=<langchain_community.utilities.sql_database.SQLDatabase object at 0x0000021F6F5FF670>),\n",
       " InfoSQLDatabaseTool(description='Input to this tool is a comma-separated list of tables, output is the schema and sample rows for those tables. Be sure that the tables actually exist by calling sql_db_list_tables first! Example Input: table1, table2, table3', db=<langchain_community.utilities.sql_database.SQLDatabase object at 0x0000021F6F5FF670>),\n",
       " ListSQLDatabaseTool(db=<langchain_community.utilities.sql_database.SQLDatabase object at 0x0000021F6F5FF670>),\n",
       " QuerySQLCheckerTool(description='Use this tool to double check if your query is correct before executing it. Always use this tool before executing a query with sql_db_query!', db=<langchain_community.utilities.sql_database.SQLDatabase object at 0x0000021F6F5FF670>, llm=ChatGroq(client=<groq.resources.chat.completions.Completions object at 0x0000021F71A46BC0>, async_client=<groq.resources.chat.completions.AsyncCompletions object at 0x0000021F71A45960>, model_name='llama3-70b-8192', model_kwargs={}, groq_api_key=SecretStr('**********')), llm_chain=LLMChain(verbose=False, prompt=PromptTemplate(input_variables=['dialect', 'query'], input_types={}, partial_variables={}, template='\\n{query}\\nDouble check the {dialect} query above for common mistakes, including:\\n- Using NOT IN with NULL values\\n- Using UNION when UNION ALL should have been used\\n- Using BETWEEN for exclusive ranges\\n- Data type mismatch in predicates\\n- Properly quoting identifiers\\n- Using the correct number of arguments for functions\\n- Casting to the correct data type\\n- Using the proper columns for joins\\n\\nIf there are any of the above mistakes, rewrite the query. If there are no mistakes, just reproduce the original query.\\n\\nOutput the final SQL query only.\\n\\nSQL Query: '), llm=ChatGroq(client=<groq.resources.chat.completions.Completions object at 0x0000021F71A46BC0>, async_client=<groq.resources.chat.completions.AsyncCompletions object at 0x0000021F71A45960>, model_name='llama3-70b-8192', model_kwargs={}, groq_api_key=SecretStr('**********')), output_parser=StrOutputParser(), llm_kwargs={}))]"
      ]
     },
     "execution_count": 24,
     "metadata": {},
     "output_type": "execute_result"
    }
   ],
   "source": [
    "tools"
   ]
  },
  {
   "cell_type": "code",
   "execution_count": 25,
   "metadata": {},
   "outputs": [
    {
     "name": "stdout",
     "output_type": "stream",
     "text": [
      "sql_db_query\n",
      "sql_db_schema\n",
      "sql_db_list_tables\n",
      "sql_db_query_checker\n"
     ]
    }
   ],
   "source": [
    "for tool in tools:\n",
    "    print(tool.name)"
   ]
  },
  {
   "cell_type": "code",
   "execution_count": 26,
   "metadata": {},
   "outputs": [],
   "source": [
    "list_tables_tool=next((tool for tool in tools if tool.name==\"sql_db_list_tables\"),None)"
   ]
  },
  {
   "cell_type": "code",
   "execution_count": 27,
   "metadata": {},
   "outputs": [
    {
     "data": {
      "text/plain": [
       "ListSQLDatabaseTool(db=<langchain_community.utilities.sql_database.SQLDatabase object at 0x0000021F6F5FF670>)"
      ]
     },
     "execution_count": 27,
     "metadata": {},
     "output_type": "execute_result"
    }
   ],
   "source": [
    "list_tables_tool"
   ]
  },
  {
   "cell_type": "code",
   "execution_count": 28,
   "metadata": {},
   "outputs": [],
   "source": [
    "get_schema_tool=next((tool for tool in tools if tool.name==\"sql_db_schema\"),None)"
   ]
  },
  {
   "cell_type": "code",
   "execution_count": 29,
   "metadata": {},
   "outputs": [
    {
     "data": {
      "text/plain": [
       "InfoSQLDatabaseTool(description='Input to this tool is a comma-separated list of tables, output is the schema and sample rows for those tables. Be sure that the tables actually exist by calling sql_db_list_tables first! Example Input: table1, table2, table3', db=<langchain_community.utilities.sql_database.SQLDatabase object at 0x0000021F6F5FF670>)"
      ]
     },
     "execution_count": 29,
     "metadata": {},
     "output_type": "execute_result"
    }
   ],
   "source": [
    "get_schema_tool"
   ]
  },
  {
   "cell_type": "code",
   "execution_count": 30,
   "metadata": {},
   "outputs": [
    {
     "data": {
      "text/plain": [
       "'product, supply'"
      ]
     },
     "execution_count": 30,
     "metadata": {},
     "output_type": "execute_result"
    }
   ],
   "source": [
    "list_tables_tool.invoke(\"\")"
   ]
  },
  {
   "cell_type": "code",
   "execution_count": 31,
   "metadata": {},
   "outputs": [
    {
     "name": "stdout",
     "output_type": "stream",
     "text": [
      "\n",
      "CREATE TABLE product (\n",
      "\tid INTEGER, \n",
      "\tproduct_name TEXT NOT NULL, \n",
      "\tprice REAL NOT NULL, \n",
      "\tstock_quantity INTEGER NOT NULL, \n",
      "\tcategory TEXT, \n",
      "\tdate_added DATE DEFAULT CURRENT_DATE, \n",
      "\tPRIMARY KEY (id)\n",
      ")\n",
      "\n",
      "/*\n",
      "3 rows from product table:\n",
      "id\tproduct_name\tprice\tstock_quantity\tcategory\tdate_added\n",
      "1\tLaptop\t799.99\t10\tElectronics\t2025-02-04\n",
      "2\tSmartphone\t499.99\t20\tElectronics\t2025-02-04\n",
      "3\tOffice Chair\t120.5\t15\tFurniture\t2025-02-04\n",
      "*/\n"
     ]
    }
   ],
   "source": [
    "print(get_schema_tool.invoke(\"product\"))"
   ]
  },
  {
   "cell_type": "code",
   "execution_count": 32,
   "metadata": {},
   "outputs": [],
   "source": [
    "from langchain_core.tools import tool\n",
    "@tool\n",
    "def db_query_tool(query:str)->str:\n",
    "    \"\"\"\n",
    "    Execute a SQL query against the database and return the result.\n",
    "    If the query is invalid or returns no result, an error message will be returned.\n",
    "    In case of an error, the user is advised to rewrite the query and try again.\n",
    "    \"\"\"\n",
    "    result=db.run_no_throw(query)\n",
    "    if not result:\n",
    "        return \"Error: Query failed. Please rewrite your query and try again.\"\n",
    "    return result"
   ]
  },
  {
   "cell_type": "code",
   "execution_count": 33,
   "metadata": {},
   "outputs": [
    {
     "data": {
      "text/plain": [
       "\"[(1, 'Laptop', 799.99, 10, 'Electronics', '2025-02-04'), (2, 'Smartphone', 499.99, 20, 'Electronics', '2025-02-04'), (3, 'Office Chair', 120.5, 15, 'Furniture', '2025-02-04'), (4, 'Table Lamp', 35.99, 25, 'Home Decor', '2025-02-04'), (5, 'Backpack', 45.0, 30, 'Accessories', '2025-02-04'), (6, 'Laptop', 799.99, 10, 'Electronics', '2025-02-05'), (7, 'Smartphone', 499.99, 20, 'Electronics', '2025-02-05'), (8, 'Office Chair', 120.5, 15, 'Furniture', '2025-02-05'), (9, 'Table Lamp', 35.99, 25, 'Home Decor', '2025-02-05'), (10, 'Backpack', 45.0, 30, 'Accessories', '2025-02-05'), (11, 'Laptop', 799.99, 10, 'Electronics', '2025-02-05'), (12, 'Smartphone', 499.99, 20, 'Electronics', '2025-02-05'), (13, 'Office Chair', 120.5, 15, 'Furniture', '2025-02-05'), (14, 'Table Lamp', 35.99, 25, 'Home Decor', '2025-02-05'), (15, 'Backpack', 45.0, 30, 'Accessories', '2025-02-05'), (16, 'Laptop', 799.99, 10, 'Electronics', '2025-02-05'), (17, 'Smartphone', 499.99, 20, 'Electronics', '2025-02-05'), (18, 'Office Chair', 120.5, 15, 'Furniture', '2025-02-05'), (19, 'Table Lamp', 35.99, 25, 'Home Decor', '2025-02-05'), (20, 'Backpack', 45.0, 30, 'Accessories', '2025-02-05'), (21, 'Laptop', 799.99, 10, 'Electronics', '2025-02-05'), (22, 'Smartphone', 499.99, 20, 'Electronics', '2025-02-05'), (23, 'Office Chair', 120.5, 15, 'Furniture', '2025-02-05'), (24, 'Table Lamp', 35.99, 25, 'Home Decor', '2025-02-05'), (25, 'Backpack', 45.0, 30, 'Accessories', '2025-02-05')]\""
      ]
     },
     "execution_count": 33,
     "metadata": {},
     "output_type": "execute_result"
    }
   ],
   "source": [
    "db_query_tool.invoke(\"SELECT * FROM product;\")\n"
   ]
  },
  {
   "cell_type": "code",
   "execution_count": 34,
   "metadata": {},
   "outputs": [
    {
     "data": {
      "text/plain": [
       "\"[(1, 'Laptop', 799.99, 10, 'Electronics', '2025-02-04'), (2, 'Smartphone', 499.99, 20, 'Electronics', '2025-02-04'), (3, 'Office Chair', 120.5, 15, 'Furniture', '2025-02-04'), (4, 'Table Lamp', 35.99, 25, 'Home Decor', '2025-02-04'), (5, 'Backpack', 45.0, 30, 'Accessories', '2025-02-04'), (6, 'Laptop', 799.99, 10, 'Electronics', '2025-02-05'), (7, 'Smartphone', 499.99, 20, 'Electronics', '2025-02-05'), (8, 'Office Chair', 120.5, 15, 'Furniture', '2025-02-05'), (9, 'Table Lamp', 35.99, 25, 'Home Decor', '2025-02-05'), (10, 'Backpack', 45.0, 30, 'Accessories', '2025-02-05'), (11, 'Laptop', 799.99, 10, 'Electronics', '2025-02-05'), (12, 'Smartphone', 499.99, 20, 'Electronics', '2025-02-05'), (13, 'Office Chair', 120.5, 15, 'Furniture', '2025-02-05'), (14, 'Table Lamp', 35.99, 25, 'Home Decor', '2025-02-05'), (15, 'Backpack', 45.0, 30, 'Accessories', '2025-02-05'), (16, 'Laptop', 799.99, 10, 'Electronics', '2025-02-05'), (17, 'Smartphone', 499.99, 20, 'Electronics', '2025-02-05'), (18, 'Office Chair', 120.5, 15, 'Furniture', '2025-02-05'), (19, 'Table Lamp', 35.99, 25, 'Home Decor', '2025-02-05'), (20, 'Backpack', 45.0, 30, 'Accessories', '2025-02-05'), (21, 'Laptop', 799.99, 10, 'Electronics', '2025-02-05'), (22, 'Smartphone', 499.99, 20, 'Electronics', '2025-02-05'), (23, 'Office Chair', 120.5, 15, 'Furniture', '2025-02-05'), (24, 'Table Lamp', 35.99, 25, 'Home Decor', '2025-02-05'), (25, 'Backpack', 45.0, 30, 'Accessories', '2025-02-05')]\""
      ]
     },
     "execution_count": 34,
     "metadata": {},
     "output_type": "execute_result"
    }
   ],
   "source": [
    "db.run(\"SELECT * FROM product;\")"
   ]
  },
  {
   "cell_type": "code",
   "execution_count": 35,
   "metadata": {},
   "outputs": [],
   "source": [
    "llm_with_tools=llm.bind_tools([db_query_tool])\n"
   ]
  },
  {
   "cell_type": "code",
   "execution_count": 36,
   "metadata": {},
   "outputs": [
    {
     "data": {
      "text/plain": [
       "AIMessage(content='', additional_kwargs={'tool_calls': [{'id': 'call_er4a', 'function': {'arguments': '{\"query\":\"SELECT * FROM Employees;\"}', 'name': 'db_query_tool'}, 'type': 'function'}]}, response_metadata={'token_usage': {'completion_tokens': 48, 'prompt_tokens': 947, 'total_tokens': 995, 'completion_time': 0.146924806, 'prompt_time': 0.054828298, 'queue_time': 0.18751405100000001, 'total_time': 0.201753104}, 'model_name': 'llama3-70b-8192', 'system_fingerprint': 'fp_753a4aecf6', 'finish_reason': 'tool_calls', 'logprobs': None}, id='run-7235d550-ecf7-4ebc-a0d3-32cd7b575bbc-0', tool_calls=[{'name': 'db_query_tool', 'args': {'query': 'SELECT * FROM Employees;'}, 'id': 'call_er4a', 'type': 'tool_call'}], usage_metadata={'input_tokens': 947, 'output_tokens': 48, 'total_tokens': 995})"
      ]
     },
     "execution_count": 36,
     "metadata": {},
     "output_type": "execute_result"
    }
   ],
   "source": [
    "llm_with_tools.invoke(\"SELECT * FROM Employees;\")\n"
   ]
  },
  {
   "cell_type": "code",
   "execution_count": 37,
   "metadata": {},
   "outputs": [],
   "source": [
    "import warnings\n",
    "# Suppress all warnings\n",
    "warnings.filterwarnings(\"ignore\")"
   ]
  },
  {
   "cell_type": "code",
   "execution_count": 38,
   "metadata": {},
   "outputs": [],
   "source": [
    "from typing import Annotated, Literal\n",
    "from langchain_core.messages import AIMessage\n",
    "from langchain_core.pydantic_v1 import BaseModel, Field\n",
    "from typing_extensions import TypedDict\n",
    "from langgraph.graph import END, StateGraph, START\n",
    "from langgraph.graph.message import AnyMessage, add_messages\n",
    "from typing import Any\n",
    "from langchain_core.messages import ToolMessage\n",
    "from langchain_core.runnables import RunnableLambda, RunnableWithFallbacks\n",
    "from langgraph.prebuilt import ToolNode"
   ]
  },
  {
   "cell_type": "code",
   "execution_count": 39,
   "metadata": {},
   "outputs": [],
   "source": [
    "from langchain_core.prompts import ChatPromptTemplate\n",
    "\n",
    "query_check_system = \"\"\"You are a SQL expert. Carefully review the SQL query for common mistakes, including:\n",
    "\n",
    "Issues with NULL handling (e.g., NOT IN with NULLs)\n",
    "Improper use of UNION instead of UNION ALL\n",
    "Incorrect use of BETWEEN for exclusive ranges\n",
    "Data type mismatches or incorrect casting\n",
    "Quoting identifiers improperly\n",
    "Incorrect number of arguments in functions\n",
    "Errors in JOIN conditions\n",
    "\n",
    "If you find any mistakes, rewrite the query to fix them. If it's correct, reproduce it as is.\"\"\"\n",
    "\n",
    "query_check_prompt = ChatPromptTemplate.from_messages([(\"system\", query_check_system), (\"placeholder\", \"{messages}\")])\n",
    "\n",
    "query_check = query_check_prompt | llm.bind_tools([db_query_tool])\n",
    "\n"
   ]
  },
  {
   "cell_type": "code",
   "execution_count": 40,
   "metadata": {},
   "outputs": [
    {
     "data": {
      "text/plain": [
       "AIMessage(content='', additional_kwargs={'tool_calls': [{'id': 'call_wd0j', 'function': {'arguments': '{\"query\":\"SELECT * FROM product LIMIT 5;\"}', 'name': 'db_query_tool'}, 'type': 'function'}]}, response_metadata={'token_usage': {'completion_tokens': 51, 'prompt_tokens': 1051, 'total_tokens': 1102, 'completion_time': 0.16127734, 'prompt_time': 0.05837269, 'queue_time': 0.021098527, 'total_time': 0.21965003}, 'model_name': 'llama3-70b-8192', 'system_fingerprint': 'fp_2f30b0b571', 'finish_reason': 'tool_calls', 'logprobs': None}, id='run-cf40f0af-76d8-42b1-92c7-ff4678694aa4-0', tool_calls=[{'name': 'db_query_tool', 'args': {'query': 'SELECT * FROM product LIMIT 5;'}, 'id': 'call_wd0j', 'type': 'tool_call'}], usage_metadata={'input_tokens': 1051, 'output_tokens': 51, 'total_tokens': 1102})"
      ]
     },
     "execution_count": 40,
     "metadata": {},
     "output_type": "execute_result"
    }
   ],
   "source": [
    "query_check.invoke({\"messages\": [(\"user\", \"SELECT * FROM product LIMIT 5;\")]})"
   ]
  },
  {
   "cell_type": "code",
   "execution_count": 41,
   "metadata": {},
   "outputs": [],
   "source": [
    "class SubmitFinalAnswer(BaseModel):\n",
    "    \"\"\"Submit the final answer to the user based on the query results.\"\"\"\n",
    "    final_answer: str = Field(..., description=\"The final answer to the user\")\n",
    "    \n",
    "llm_with_final_answer=llm.bind_tools([SubmitFinalAnswer])"
   ]
  },
  {
   "cell_type": "code",
   "execution_count": 42,
   "metadata": {},
   "outputs": [],
   "source": [
    "# Add a node for a model to generate a query based on the question and schema\n",
    "query_gen_system = \"\"\"You are a SQL expert with a strong attention to detail.Given an input question, output a syntactically correct SQLite query to run, then look at the results of the query and return the answer.\n",
    "\n",
    "1. DO NOT call any tool besides SubmitFinalAnswer to submit the final answer. When generating the query:\n",
    "\n",
    "2. Output the SQL query that answers the input question without a tool call.\n",
    "\n",
    "3. Unless the user specifies a specific number of examples they wish to obtain, always limit your query to at most 5 results.\n",
    "\n",
    "4. You can order the results by a relevant column to return the most interesting examples in the database.\n",
    "\n",
    "5. Never query for all the columns from a specific table, only ask for the relevant columns given the question.\n",
    "\n",
    "6. If you get an error while executing a query, rewrite the query and try again.\n",
    "\n",
    "7. If you get an empty result set, you should try to rewrite the query to get a non-empty result set.\n",
    "\n",
    "8. NEVER make stuff up if you don't have enough information to answer the query... just say you don't have enough information.\n",
    "\n",
    "9. If you have enough information to answer the input question, simply invoke the appropriate tool to submit the final answer to the user.\n",
    "\n",
    "10. DO NOT make any DML statements (INSERT, UPDATE, DELETE, DROP etc.) to the database. Do not return any sql query except answer.\n",
    "\n",
    "11. rewrite this promote with very simple english and little shorter manner also \"\"\"\n",
    "\n",
    "query_gen_prompt = ChatPromptTemplate.from_messages([(\"system\", query_gen_system), (\"placeholder\", \"{messages}\")])\n",
    "\n",
    "query_generator = query_gen_prompt | llm.bind_tools([SubmitFinalAnswer])"
   ]
  },
  {
   "cell_type": "code",
   "execution_count": 43,
   "metadata": {},
   "outputs": [
    {
     "data": {
      "text/plain": [
       "ChatPromptTemplate(input_variables=[], optional_variables=['messages'], input_types={'messages': list[typing.Annotated[typing.Union[typing.Annotated[langchain_core.messages.ai.AIMessage, Tag(tag='ai')], typing.Annotated[langchain_core.messages.human.HumanMessage, Tag(tag='human')], typing.Annotated[langchain_core.messages.chat.ChatMessage, Tag(tag='chat')], typing.Annotated[langchain_core.messages.system.SystemMessage, Tag(tag='system')], typing.Annotated[langchain_core.messages.function.FunctionMessage, Tag(tag='function')], typing.Annotated[langchain_core.messages.tool.ToolMessage, Tag(tag='tool')], typing.Annotated[langchain_core.messages.ai.AIMessageChunk, Tag(tag='AIMessageChunk')], typing.Annotated[langchain_core.messages.human.HumanMessageChunk, Tag(tag='HumanMessageChunk')], typing.Annotated[langchain_core.messages.chat.ChatMessageChunk, Tag(tag='ChatMessageChunk')], typing.Annotated[langchain_core.messages.system.SystemMessageChunk, Tag(tag='SystemMessageChunk')], typing.Annotated[langchain_core.messages.function.FunctionMessageChunk, Tag(tag='FunctionMessageChunk')], typing.Annotated[langchain_core.messages.tool.ToolMessageChunk, Tag(tag='ToolMessageChunk')]], FieldInfo(annotation=NoneType, required=True, discriminator=Discriminator(discriminator=<function _get_type at 0x0000021F6F7E1BD0>, custom_error_type=None, custom_error_message=None, custom_error_context=None))]]}, partial_variables={'messages': []}, messages=[SystemMessagePromptTemplate(prompt=PromptTemplate(input_variables=[], input_types={}, partial_variables={}, template=\"You are a SQL expert with a strong attention to detail.Given an input question, output a syntactically correct SQLite query to run, then look at the results of the query and return the answer.\\n\\n1. DO NOT call any tool besides SubmitFinalAnswer to submit the final answer. When generating the query:\\n\\n2. Output the SQL query that answers the input question without a tool call.\\n\\n3. Unless the user specifies a specific number of examples they wish to obtain, always limit your query to at most 5 results.\\n\\n4. You can order the results by a relevant column to return the most interesting examples in the database.\\n\\n5. Never query for all the columns from a specific table, only ask for the relevant columns given the question.\\n\\n6. If you get an error while executing a query, rewrite the query and try again.\\n\\n7. If you get an empty result set, you should try to rewrite the query to get a non-empty result set.\\n\\n8. NEVER make stuff up if you don't have enough information to answer the query... just say you don't have enough information.\\n\\n9. If you have enough information to answer the input question, simply invoke the appropriate tool to submit the final answer to the user.\\n\\n10. DO NOT make any DML statements (INSERT, UPDATE, DELETE, DROP etc.) to the database. Do not return any sql query except answer.\\n\\n11. rewrite this promote with very simple english and little shorter manner also \"), additional_kwargs={}), MessagesPlaceholder(variable_name='messages', optional=True)])"
      ]
     },
     "execution_count": 43,
     "metadata": {},
     "output_type": "execute_result"
    }
   ],
   "source": [
    "query_gen_prompt"
   ]
  },
  {
   "cell_type": "code",
   "execution_count": 44,
   "metadata": {},
   "outputs": [
    {
     "data": {
      "text/plain": [
       "AIMessage(content='', additional_kwargs={'tool_calls': [{'id': 'call_k7qk', 'function': {'arguments': '{\"final_answer\":\"SELECT * FROM product LIMIT 5\"}', 'name': 'SubmitFinalAnswer'}, 'type': 'function'}]}, response_metadata={'token_usage': {'completion_tokens': 81, 'prompt_tokens': 1227, 'total_tokens': 1308, 'completion_time': 0.256222568, 'prompt_time': 0.085552718, 'queue_time': 0.045563881, 'total_time': 0.341775286}, 'model_name': 'llama3-70b-8192', 'system_fingerprint': 'fp_2f30b0b571', 'finish_reason': 'tool_calls', 'logprobs': None}, id='run-88a7b774-b1a0-418d-9b6b-1faa21877ac4-0', tool_calls=[{'name': 'SubmitFinalAnswer', 'args': {'final_answer': 'SELECT * FROM product LIMIT 5'}, 'id': 'call_k7qk', 'type': 'tool_call'}], usage_metadata={'input_tokens': 1227, 'output_tokens': 81, 'total_tokens': 1308})"
      ]
     },
     "execution_count": 44,
     "metadata": {},
     "output_type": "execute_result"
    }
   ],
   "source": [
    "query_generator.invoke({\"messages\": [(\"can you fetch the data from product table?\")]})"
   ]
  },
  {
   "cell_type": "code",
   "execution_count": 45,
   "metadata": {},
   "outputs": [],
   "source": [
    "class State(TypedDict):\n",
    "    messages: Annotated[list[AnyMessage], add_messages]"
   ]
  },
  {
   "cell_type": "code",
   "execution_count": 46,
   "metadata": {},
   "outputs": [],
   "source": [
    "def first_tool_call(state:State)->dict[str,list[AIMessage]]:\n",
    "    return{\"messages\": [AIMessage(content=\"\",tool_calls=[{\"name\":\"sql_db_list_tables\",\"args\":{},\"id\":\"tool_abcd123\"}])]}"
   ]
  },
  {
   "cell_type": "code",
   "execution_count": 47,
   "metadata": {},
   "outputs": [],
   "source": [
    "def handle_tool_error(state:State):\n",
    "    error = state.get(\"error\") \n",
    "    tool_calls = state[\"messages\"][-1].tool_calls\n",
    "    return { \"messages\": [ ToolMessage(content=f\"Error: {repr(error)}\\n please fix your mistakes.\",tool_call_id=tc[\"id\"],) for tc in tool_calls ] }"
   ]
  },
  {
   "cell_type": "code",
   "execution_count": 48,
   "metadata": {},
   "outputs": [],
   "source": [
    "def create_node_from_tool_with_fallback(tools:list)-> RunnableWithFallbacks[Any, dict]:\n",
    "    return ToolNode(tools).with_fallbacks([RunnableLambda(handle_tool_error)], exception_key=\"error\")"
   ]
  },
  {
   "cell_type": "code",
   "execution_count": 49,
   "metadata": {},
   "outputs": [],
   "source": [
    "def model_check_query(state:State):\n",
    "    return {\"messages\": [query_check.invoke({\"messages\": [state[\"messages\"][-1]]})]}"
   ]
  },
  {
   "cell_type": "code",
   "execution_count": 50,
   "metadata": {},
   "outputs": [],
   "source": [
    "def query_gen_node(state:State):\n",
    "    message = query_generator.invoke(state)\n",
    "\n",
    "    # Sometimes, the LLM will hallucinate and call the wrong tool. We need to catch this and return an error message.\n",
    "    tool_messages = []\n",
    "    if message.tool_calls:\n",
    "        for tc in message.tool_calls:\n",
    "            if tc[\"name\"] != \"SubmitFinalAnswer\":\n",
    "                tool_messages.append(\n",
    "                    ToolMessage(\n",
    "                        content=f\"Error: The wrong tool was callead: {tc['name']}. Please fix your mistakes. Remember to only call SubmitFinalAnswer to submit the final answer. Generated queries should be outputted WITHOUT a tool call.\",\n",
    "                        tool_call_id=tc[\"id\"],\n",
    "                    )\n",
    "                )\n",
    "    else:\n",
    "        tool_messages = []\n",
    "    return {\"messages\": [message] + tool_messages}"
   ]
  },
  {
   "cell_type": "code",
   "execution_count": 51,
   "metadata": {},
   "outputs": [],
   "source": [
    "def should_continue(state:State):\n",
    "    messages = state[\"messages\"]\n",
    "    last_message = messages[-1]\n",
    "    if getattr(last_message, \"tool_calls\", None):\n",
    "        return END\n",
    "    if last_message.content.startswith(\"Error:\"):\n",
    "        return \"query_gen\"\n",
    "    else:\n",
    "        return \"correct_query\"\n",
    "    "
   ]
  },
  {
   "cell_type": "code",
   "execution_count": 52,
   "metadata": {},
   "outputs": [
    {
     "data": {
      "text/plain": [
       "<langgraph.graph.state.StateGraph at 0x21f6e72fd30>"
      ]
     },
     "execution_count": 52,
     "metadata": {},
     "output_type": "execute_result"
    }
   ],
   "source": [
    "workflow = StateGraph(State)\n",
    "workflow.add_node(\"first_tool_call\",first_tool_call)\n",
    "workflow.add_node(\"list_tables_tool\", create_node_from_tool_with_fallback([list_tables_tool]))\n",
    "workflow.add_node(\"get_schema_tool\", create_node_from_tool_with_fallback([get_schema_tool]))\n",
    "model_get_schema=llm.bind_tools([get_schema_tool])\n",
    "workflow.add_node(\"model_get_schema\", lambda state:{\"messages\":[model_get_schema.invoke(state['messages'])]})\n",
    "workflow.add_node(\"query_gen\", query_gen_node)\n",
    "workflow.add_node(\"correct_query\", model_check_query)\n",
    "workflow.add_node(\"execute_query\", create_node_from_tool_with_fallback([db_query_tool]))"
   ]
  },
  {
   "cell_type": "code",
   "execution_count": 53,
   "metadata": {},
   "outputs": [
    {
     "data": {
      "text/plain": [
       "<langgraph.graph.state.StateGraph at 0x21f6e72fd30>"
      ]
     },
     "execution_count": 53,
     "metadata": {},
     "output_type": "execute_result"
    }
   ],
   "source": [
    "workflow.add_edge(START, \"first_tool_call\")\n",
    "workflow.add_edge(\"first_tool_call\", \"list_tables_tool\")\n",
    "workflow.add_edge(\"list_tables_tool\", \"model_get_schema\")\n",
    "workflow.add_edge(\"model_get_schema\", \"get_schema_tool\")\n",
    "workflow.add_edge(\"get_schema_tool\", \"query_gen\")\n",
    "workflow.add_conditional_edges(\"query_gen\",should_continue,\n",
    "                            {END:END,\n",
    "                            \"correct_query\":\"correct_query\"})\n",
    "workflow.add_edge(\"correct_query\", \"execute_query\")\n",
    "workflow.add_edge(\"execute_query\", \"query_gen\")"
   ]
  },
  {
   "cell_type": "code",
   "execution_count": 54,
   "metadata": {},
   "outputs": [],
   "source": [
    "app=workflow.compile()\n"
   ]
  },
  {
   "cell_type": "code",
   "execution_count": 55,
   "metadata": {},
   "outputs": [
    {
     "data": {
      "image/png": "[encoded data removed]",
      "text/plain": [
       "<IPython.core.display.Image object>"
      ]
     },
     "metadata": {},
     "output_type": "display_data"
    }
   ],
   "source": [
    "from IPython.display import Image, display\n",
    "from langchain_core.runnables.graph import MermaidDrawMethod\n",
    "\n",
    "display(\n",
    "    Image(\n",
    "        app.get_graph().draw_mermaid_png(\n",
    "            draw_method=MermaidDrawMethod.API,\n",
    "        )\n",
    "    )\n",
    ")"
   ]
  },
  {
   "cell_type": "code",
   "execution_count": 56,
   "metadata": {},
   "outputs": [],
   "source": [
    "query={\"messages\": [(\"user\", \"tell me the name of every product?\")]}\n"
   ]
  },
  {
   "cell_type": "code",
   "execution_count": 57,
   "metadata": {},
   "outputs": [],
   "source": [
    "response=app.invoke(query)"
   ]
  },
  {
   "cell_type": "code",
   "execution_count": 58,
   "metadata": {},
   "outputs": [
    {
     "data": {
      "text/plain": [
       "'Here are the details of the products and supplies: Laptop, Smartphone, Office Chair, Steel Rods, Cement Bags, Bricks'"
      ]
     },
     "execution_count": 58,
     "metadata": {},
     "output_type": "execute_result"
    }
   ],
   "source": [
    "response[\"messages\"][-1].tool_calls[0][\"args\"][\"final_answer\"]"
   ]
  },
  {
   "cell_type": "code",
   "execution_count": null,
   "metadata": {},
   "outputs": [],
   "source": []
  }
 ],
 "metadata": {
  "kernelspec": {
   "display_name": "Python 3",
   "language": "python",
   "name": "python3"
  },
  "language_info": {
   "codemirror_mode": {
    "name": "ipython",
    "version": 3
   },
   "file_extension": ".py",
   "mimetype": "text/x-python",
   "name": "python",
   "nbconvert_exporter": "python",
   "pygments_lexer": "ipython3",
   "version": "3.10.9"
  }
 },
 "nbformat": 4,
 "nbformat_minor": 2
}
